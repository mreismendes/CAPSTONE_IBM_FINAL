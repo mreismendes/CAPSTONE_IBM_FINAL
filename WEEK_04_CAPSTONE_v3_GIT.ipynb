{
  "nbformat": 4,
  "nbformat_minor": 0,
  "metadata": {
    "kernelspec": {
      "name": "python3",
      "display_name": "Python 3"
    },
    "language_info": {
      "codemirror_mode": {
        "name": "ipython",
        "version": 3
      },
      "file_extension": ".py",
      "mimetype": "text/x-python",
      "name": "python",
      "nbconvert_exporter": "python",
      "pygments_lexer": "ipython3",
      "version": "3.6.8"
    },
    "colab": {
      "name": "WEEK_04_CAPSTONE_v3.ipynb",
      "provenance": [],
      "collapsed_sections": [],
      "toc_visible": true
    },
    "accelerator": "GPU"
  },
  "cells": [
    {
      "cell_type": "markdown",
      "metadata": {
        "id": "_9CclBWOfevE",
        "colab_type": "text"
      },
      "source": [
        "# 1. Description of the Business Problem & Discussion of the Background (Introduction Section):\n",
        "\n",
        "\n",
        "A Luxury Fitness Club chain wants to expand its business and wants a research about potential neighborhoods in TORONTO - CA . To accomplish that, they hired a consultancy company to help them.\n",
        "\n",
        "Knowing that Toronto has 140 neighborhoods, firstly, the hired company wants to select potential candidates for further field surveys and then reducing then, the field survey costs that will be done in the future, like target properties price's, access easiness and others, which will not be covered in this project.\n",
        "\n",
        "The central aim of this project is to point out 10 neighborhoods out of 140, where the market competition for the target residents could be lesser reducing then, the costs of infield surveys."
      ]
    },
    {
      "cell_type": "markdown",
      "metadata": {
        "id": "F6IinKM2n9EG",
        "colab_type": "text"
      },
      "source": [
        "# 2. Data acquisition"
      ]
    },
    {
      "cell_type": "markdown",
      "metadata": {
        "id": "eSsQr1JAsH_I",
        "colab_type": "text"
      },
      "source": [
        "## 2.1  Neighborhoods' Demographics\n",
        "\n",
        "To get information about Toronto neighborhoods' demographics, I downloaded the provided data on \"https://open.toronto.ca/dataset/neighbourhood-profiles/\"\n",
        "\n",
        "The Census of Population is held across Canada every 5 years and collects data about age and sex, families and households, language, immigration and internal migration, ethnocultural diversity, Aboriginal peoples, housing, education, income, and labour. City of Toronto Neighbourhood Profiles use this Census data to provide a portrait of the demographic, social and economic characteristics of the people and households in each City of Toronto neighbourhood. The profiles present selected highlights from the data, but these accompanying data files provide the full data set assembled for each neighbourhood.\n",
        "\n",
        "In these profiles, \"neighbourhood\" refers to the City of Toronto's 140 social planning neighbourhoods. These social planning neighbourhoods were developed by the City of Toronto to help government and community organizations with local planning by providing socio-economic data at a meaningful geographic area. The boundaries of these social planning neighbourhoods are consistent over time, allowing for comparison between Census years. Neighbourhood level data from a variety of other sources are also available through the City's Wellbeing Toronto mapping application and here on the Open Data portal.\n",
        "Each data point in this file is presented for the City's 140 neighbourhoods, as well as for the City of Toronto as a whole. The data is sourced from a number of Census tables released by Statistics Canada. The general Census Profile is the main source table for this data, but other Census tables have also been used to provide additional information.\n",
        "For definitions of terms and concepts referenced in this data set, users should consult the reference materials produced by Statistics Canada for the 2016 Census, available online at: http://www12.statcan.gc.ca/census-recensement/2016/ref/index-eng.cfm.\n",
        "\n",
        "Where I used the following _id and Characteristic:\n",
        "\n",
        "**Neighbourhood Information:**\n",
        "\n",
        "* 1 - Neighbourhood Number\n",
        "\n",
        "**Population and dwellings:**\n",
        "\n",
        "* 3 - Population, 2016\n",
        "* 9 - Land area in square kilometres\n",
        "\n",
        "**Income of households in 2015:**\n",
        "\n",
        "* 1055 - Total - Household after-tax income groups in 2015 for private households - 100% data\n",
        "* 1071 - $100,000 and over\n",
        "\n",
        "**Age characteristics:**\n",
        "\n",
        "* 10 - Children (0-14 years)\n",
        "* 11 - Youth (15-24 years)\n",
        "* 12 - Working Age (25-54 years)\n",
        "* 13 - Pre-retirement (55-64 years)\n",
        "* 14 - Seniors (65+ years)\n",
        "* 15 - Older Seniors (85+ years)\n",
        "\n",
        "**Commuting duration:**\n",
        "\n",
        "* 1973 - Total - Commuting duration for the employed labour force aged 15 years and over in private households with a usual place of work or no fixed workplace address - 25% sample data\n",
        "* 1974 - Less than 15 minutes\n",
        "* 1975 - 15 to 29 minutes\n",
        "* 1976 - 30 to 44 minutes\n",
        "* 1977 - 45 to 59 minutes\n",
        "* 1978 - 60 minutes and over"
      ]
    },
    {
      "cell_type": "markdown",
      "metadata": {
        "id": "kKlkAGaGoSma",
        "colab_type": "text"
      },
      "source": [
        "## 2.2 Neighborhoods' Geographical Coordinates\n",
        "\n",
        "To get all the geographical coordinates of the neighborhoods, I downloaded the provided data on \n",
        "\"https://open.toronto.ca/dataset/neighbourhoods/\", where I retrieved the following for each neighborhoods:\n",
        "\t\n",
        "* AREA_SHORT_CODE - ID of each neighborhood\n",
        "* LONGITUDE - Longitude of each neighborhood\n",
        "* LATITUDE - Latitute of each neighborhood\n",
        "* geometry - polygon data about the neighborhoods' geographical limit"
      ]
    },
    {
      "cell_type": "markdown",
      "metadata": {
        "id": "PVegAW_axUQZ",
        "colab_type": "text"
      },
      "source": [
        "## 2.3 Information about other Gyms\n",
        "\n",
        "To get location and other information about the gyms in Toronto I’m using Foursquare’s explore API. Using the Foursquare’s explore API (which gives venue recommendations), I’m fetching details about the venues up present in Toronto and collected their names, categories, and locations (latitude and longitude).\n",
        "\n",
        "From Foursquare API \"https://developer.foursquare.com/docs\" I retrieved the following for each venue:\n",
        "\n",
        "* Name: The name of the venue.\n",
        "* Category: The category type as defined by the API.\n",
        "* Latitude: The latitude value of the venue.\n",
        "* Longitude: The longitude value of the venue."
      ]
    },
    {
      "cell_type": "markdown",
      "metadata": {
        "id": "I-STIrYhyvy3",
        "colab_type": "text"
      },
      "source": [
        "# 3 Methodology section"
      ]
    },
    {
      "cell_type": "markdown",
      "metadata": {
        "id": "AmVHl82BzHFF",
        "colab_type": "text"
      },
      "source": [
        "In this project, we will direct our efforts on detecting neighborhoods of Toronto that have low gym density, particularly low density of our target clients. \n",
        "\n",
        "With that in mind we'll describe our target client based on past researches conducted during the strategic plan in 2019:\n",
        "\n",
        "* People who have an after-tax household income over CA$ 100.000\n",
        "* People aged between 15 and 54\n",
        "* People that commute less than 30 minutes a day\n",
        "  * In this regard there some scientific research that supports that thought like those that are cited in https://engage.gov.bc.ca/app/uploads/sites/391/2018/08/Closer-Commutes.pdf\n",
        "\n",
        "To select our future candidates, I propose the following methodology that was approved by the stakeholders.\n",
        "\n",
        "We created an indicator that will be applied to each neighboorhood and will be the final criteria do select the neighborhoods' sample for future studies (project's goal).\n",
        "\n",
        "\n",
        "<div align=\"center\">\n",
        "  <strong> <h2> gym_target+1 = E / ((A x 1/B)x(C x D))</strong></h2>\n",
        "</div>\n",
        "<p style=\"text-align: center;\"></p>\n",
        "\n",
        "**where:**\n",
        "\n",
        "**E - number of 'Gym' and 'Gym / Fitness Center' inside the neighboorhood, plus one (representing our possible new unit)**\n",
        "\n",
        "**A = number of people who have an after-tax household income over CA$ 100.000**\n",
        "\n",
        "**B = Land area in square kilometers.**\n",
        "\n",
        "**C = People's percentual that are between 15 and 54 years.**\n",
        "\n",
        "**D = People's percentual that commutes less than 30 minutes a day .**\n",
        "\n",
        "The result will be an indicator that represents the number of target people per one unit of gym per one square kilometer."
      ]
    }
  ]
}